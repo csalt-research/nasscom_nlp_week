{
  "nbformat": 4,
  "nbformat_minor": 0,
  "metadata": {
    "colab": {
      "name": "NMT_En-Mr",
      "provenance": [],
      "collapsed_sections": []
    },
    "kernelspec": {
      "name": "python3",
      "display_name": "Python 3"
    },
    "language_info": {
      "name": "python"
    },
    "accelerator": "GPU"
  },
  "cells": [
    {
      "cell_type": "markdown",
      "metadata": {
        "id": "ijNJzSdznC-4"
      },
      "source": [
        "# Neural Machine Translation for En-Mr"
      ]
    },
    {
      "cell_type": "markdown",
      "metadata": {
        "id": "4lvds0MdNMSl"
      },
      "source": [
        "**Install Dependencies**\n",
        "* `OpenNMT-py`: Open-Source Neural Machine Translation (a framework for NMT)\n",
        "* `subword-nmt`: Byte pair encoding\n",
        "* `mosestokenizer`: To tokenize english data\n",
        "* `indic-nlp`: To normalize and tokenize hindi and marathi data.\n",
        "* `sacrebleu`: To evaluate performance of NMT systems using BLEU (Bi-lingual Evaluation Understudy) score which is based on n-gram matching"
      ]
    },
    {
      "cell_type": "code",
      "metadata": {
        "id": "bQZXU91jHkMz"
      },
      "source": [
        "!pip install subword-nmt\n",
        "!pip install mosestokenizer\n",
        "!pip install sacrebleu\n",
        "!pip install indic-nlp-library\n",
        "!pip install OpenNMT-py==1.2.0"
      ],
      "execution_count": null,
      "outputs": []
    },
    {
      "cell_type": "markdown",
      "metadata": {
        "id": "4MRA8lKgH-Ez"
      },
      "source": [
        "**Mount Google Drive**"
      ]
    },
    {
      "cell_type": "code",
      "metadata": {
        "id": "EtdgyzERCZ2g"
      },
      "source": [
        "from google.colab import drive\n",
        "drive.mount('/content/gdrive/')"
      ],
      "execution_count": null,
      "outputs": []
    },
    {
      "cell_type": "markdown",
      "metadata": {
        "id": "MQqUxipx8dkM"
      },
      "source": [
        "**Create a working directory and change the location**"
      ]
    },
    {
      "cell_type": "code",
      "metadata": {
        "id": "B-lTI7OzNjO-"
      },
      "source": [
        "cd /content/gdrive/MyDrive/"
      ],
      "execution_count": null,
      "outputs": []
    },
    {
      "cell_type": "code",
      "metadata": {
        "id": "ZiYHcfkHVF2f"
      },
      "source": [
        "mkdir -p NASSCOM_MR"
      ],
      "execution_count": null,
      "outputs": []
    },
    {
      "cell_type": "code",
      "metadata": {
        "id": "kOe1Zs78JtaU"
      },
      "source": [
        "cd /content/gdrive/MyDrive/NASSCOM_MR/\n",
        "#Copy trained model and BPE codes here or cd to the directory containing the trained model and bpe codes"
      ],
      "execution_count": null,
      "outputs": []
    },
    {
      "cell_type": "markdown",
      "metadata": {
        "id": "6KYaAfIZf5KQ"
      },
      "source": [
        "**Steps to train and evaluate a Neural Machine Translation (NMT) system**\n",
        "* Data preprocessing\n",
        "* Training\n",
        "* Inference"
      ]
    },
    {
      "cell_type": "markdown",
      "metadata": {
        "id": "rCxcWIaJz-38"
      },
      "source": [
        "### Data preparation"
      ]
    },
    {
      "cell_type": "markdown",
      "metadata": {
        "id": "0K0T6pNwIpSJ"
      },
      "source": [
        "**Downloading and Prepare Data** \n",
        "\n",
        "For demonstration purpose, we are using a small subset of data\n",
        "\n",
        "Downloading \"PMIndia\" Dataset, PMIndia dataset consists of parallel sentences for 13 languages pairs. "
      ]
    },
    {
      "cell_type": "code",
      "metadata": {
        "id": "B7CguaHj8r5o"
      },
      "source": [
        "!wget -c \"http://data.statmt.org/pmindia/v1/parallel/pmindia.v1.mr-en.tsv\""
      ],
      "execution_count": null,
      "outputs": []
    },
    {
      "cell_type": "markdown",
      "metadata": {
        "id": "NfaoHhAeh6Fo"
      },
      "source": [
        "**Making separate text files for source and target languages from tsv file**\n",
        "\n",
        "We do this because OpenNMT works with separate files for source and target languages\n"
      ]
    },
    {
      "cell_type": "code",
      "metadata": {
        "id": "6cXqv86K8r7_"
      },
      "source": [
        "import pandas as pd\n",
        "tsv_read = pd.read_csv(\"pmindia.v1.mr-en.tsv\", sep='\\t',names=[\"EN\", \"MR\"])\n",
        "src=tsv_read['EN'].tolist()\n",
        "tgt=tsv_read['MR'].tolist()\n",
        "\n",
        "with open('pmi-en.txt', 'w') as f:\n",
        "    for item in src:\n",
        "        f.write(\"%s\\n\" % item)\n",
        "\n",
        "with open('pmi-mr.txt', 'w') as f:\n",
        "    for item in tgt:\n",
        "        f.write(\"%s\\n\" % item)"
      ],
      "execution_count": null,
      "outputs": []
    },
    {
      "cell_type": "markdown",
      "metadata": {
        "id": "KqasLSj9NhtD"
      },
      "source": [
        "**Preprocessing Data**\n",
        "* Normalization\n",
        "> * Marathi: IndicNLP\n",
        "* Tokenization\n",
        "> * English: MosesTokenizer\n",
        "> * Marathi: IndicNLP\n",
        "* Byte pair encoding\n",
        "\n",
        "Byte pair encoding is a subword segmentation algorithm which is used to break the words in it sub-words. The following example illustrates the BPE merge operations:\n",
        "1. \n",
        "```\n",
        "{'l o w </w>': 5, 'l o w e r </w>': 2, 'n e w e s t </w>': 6, 'w i d e s t </w>': 3}\n",
        "```\n",
        "2. \n",
        "```\n",
        "{'l o w </w>': 5, 'l o w e r </w>': 2, 'n e w es t </w>': 6, 'w i d es t </w>': 3}\n",
        "```\n",
        "3. \n",
        "```\n",
        "{'l o w </w>': 5, 'l o w e r </w>': 2, 'n e w est </w>': 6, 'w i d est </w>': 3}\n",
        "```\n",
        "This example is taken from [here](https://leimao.github.io/blog/Byte-Pair-Encoding/).\n"
      ]
    },
    {
      "cell_type": "markdown",
      "metadata": {
        "id": "PnSpdmJJiE53"
      },
      "source": [
        "**Create instances of normalizer and tokenizer for english and marathi**"
      ]
    },
    {
      "cell_type": "code",
      "metadata": {
        "id": "JirKQ6iC-Sl7"
      },
      "source": [
        "from mosestokenizer import *\n",
        "from indicnlp.tokenize import indic_tokenize\n",
        "from indicnlp.normalize.indic_normalize import IndicNormalizerFactory\n",
        "\n",
        "factory = IndicNormalizerFactory()\n",
        "normalizer = factory.get_normalizer(\"mr\")\n",
        "tokenize = MosesTokenizer('en')"
      ],
      "execution_count": null,
      "outputs": []
    },
    {
      "cell_type": "markdown",
      "metadata": {
        "id": "zjKrxc9QgTdl"
      },
      "source": [
        "**Preprocessing functions for** \n",
        "> * English: Lowercase + Tokenize\n",
        "> * Marathi: Normalize + Tokenize\n"
      ]
    },
    {
      "cell_type": "code",
      "metadata": {
        "id": "fsjYvON1-Sqz"
      },
      "source": [
        "def preprocess_en(text):\n",
        "    s = text.lower()\n",
        "    s = ' '.join(tokenize(s))\n",
        "    return s\n",
        "\n",
        "def preprocess_mr(text):\n",
        "    text = normalizer.normalize(text)\n",
        "    return ' '.join(indic_tokenize.trivial_tokenize(text))"
      ],
      "execution_count": null,
      "outputs": []
    },
    {
      "cell_type": "markdown",
      "metadata": {
        "id": "qPd_rdIvifex"
      },
      "source": [
        "**Preprocess the Data**"
      ]
    },
    {
      "cell_type": "code",
      "metadata": {
        "id": "TSX2Y-HI-mXD"
      },
      "source": [
        "preprocessed_src = []\n",
        "preprocessed_tgt = []\n",
        "\n",
        "for i in src:\n",
        "    preprocessed_src+=[preprocess_en(i)]\n",
        "for i in tgt:\n",
        "    preprocessed_tgt+=[preprocess_mr(i)]"
      ],
      "execution_count": null,
      "outputs": []
    },
    {
      "cell_type": "markdown",
      "metadata": {
        "id": "4VGcfJCRKtUx"
      },
      "source": [
        "**Extracting Small Sample of Data**"
      ]
    },
    {
      "cell_type": "code",
      "metadata": {
        "id": "daTO0boCs0Ns"
      },
      "source": [
        "preprocessed_src_train = [preprocessed_src[i] for i in range(128)]\n",
        "preprocessed_tgt_train = [preprocessed_tgt[i] for i in range(128)]\n",
        "\n",
        "#Write preprocessed data back in files (Because OpenNMT deal with files)\n",
        "with open('train-en.txt', 'w') as f:\n",
        "    for item in preprocessed_src_train:\n",
        "        f.write(\"%s\\n\" % item)\n",
        "\n",
        "with open('train-mr.txt', 'w') as f:\n",
        "    for item in preprocessed_tgt_train:\n",
        "        f.write(\"%s\\n\" % item)"
      ],
      "execution_count": null,
      "outputs": []
    },
    {
      "cell_type": "markdown",
      "metadata": {
        "id": "P2UXSqPaJq-6"
      },
      "source": [
        "**Learn BPE (Byte Pair Encoding) merges**\n",
        "\n",
        "Learn BPE merges (Showing here on a small number of sentences with small number of BPE merge operations).\n",
        "\n",
        "Number of BPE merge operations is an important parameter here."
      ]
    },
    {
      "cell_type": "code",
      "metadata": {
        "id": "6NDWBoLLGKbW"
      },
      "source": [
        "!subword-nmt learn-bpe -s 250 < pmi-mr.txt > pmi-bpe-codes-mr.txt\n",
        "!subword-nmt learn-bpe -s 250 < pmi-en.txt > pmi-bpe-codes-en.txt"
      ],
      "execution_count": null,
      "outputs": []
    },
    {
      "cell_type": "markdown",
      "metadata": {
        "id": "MBA53pZLJwNi"
      },
      "source": [
        "**Apply BPE Merges**\n",
        "\n",
        "We have already stored BPE codes which are trained on complete data (which are being utilized here)"
      ]
    },
    {
      "cell_type": "code",
      "metadata": {
        "id": "Mz-gcgnj-mZW"
      },
      "source": [
        "!subword-nmt apply-bpe -c bpe-codes.mr < train-mr.txt > bpe-train-mr.txt\n",
        "!subword-nmt apply-bpe -c mr-bpe-codes.en < train-en.txt > bpe-train-en.txt"
      ],
      "execution_count": null,
      "outputs": []
    },
    {
      "cell_type": "markdown",
      "metadata": {
        "id": "sS2XzaoRJ64J"
      },
      "source": [
        "**Sample Training Data**\n",
        "\n",
        "Let's look at the dataset before and after preprocessing."
      ]
    },
    {
      "cell_type": "code",
      "metadata": {
        "id": "lYlEHiRsulgP"
      },
      "source": [
        "!head -n 5 train-en.txt"
      ],
      "execution_count": null,
      "outputs": []
    },
    {
      "cell_type": "code",
      "metadata": {
        "id": "sdVl3L0WubZE"
      },
      "source": [
        "!head -n 5 bpe-train-en.txt"
      ],
      "execution_count": null,
      "outputs": []
    },
    {
      "cell_type": "markdown",
      "metadata": {
        "id": "SZ4tfjRS0HnG"
      },
      "source": [
        "### Training"
      ]
    },
    {
      "cell_type": "markdown",
      "metadata": {
        "id": "286TAbFzhehU"
      },
      "source": [
        "The architecture to train an NMT system consists of a stack of encoder layers and a stack of decoder layers, which are fully connected. Each encoder consists of a self-attention component and a feed-forward component. Each decoder consists of three components: self-attention, encoder-decoder attention and a feed-forward layer.\n",
        "* `Self-attention`: It is a weighted combination of all other token embeddings (including the tokens that appear later in the sentence). While vanilla attention looks at previous hidden states.\n",
        "\n",
        "* `Positional encoding`: Because self-attention is not able to capture positions, a positional vector is added to the token embeddings prior to feeding it to the self-attention layer.\n",
        "\n",
        "* `Encoder-decoder attention`: It functions over the output of the decoder's self-attention layer and the output of the last encoder.\n",
        "\n",
        "![Encoder-Decoder.png](data:image/png;base64,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)\n",
        "\n",
        "\n",
        "Image source: http://jalammar.github.io/illustrated-transformer/\n",
        "\n"
      ]
    },
    {
      "cell_type": "markdown",
      "metadata": {
        "id": "oIqLImK2YFMX"
      },
      "source": [
        "Train using OpenNMT\n",
        "*   Build vocabulary and store train data as pytorch tensors\n",
        "*   Train using OpenNMT\n",
        "> - `encoder_type`, `decoder_type`: transformer\n",
        "> - `layers`: Number of  encoder and decoder layers"
      ]
    },
    {
      "cell_type": "markdown",
      "metadata": {
        "id": "Gkp5HQK1KCQY"
      },
      "source": [
        "**Build Vocabulary**\n",
        "\n",
        "This module create vocabulary based on provided source and target text files and store data in the form of tensors."
      ]
    },
    {
      "cell_type": "code",
      "metadata": {
        "id": "30FLOfXj-Svk"
      },
      "source": [
        "!onmt_preprocess -train_src bpe-train-en.txt -train_tgt bpe-train-mr.txt \\\n",
        "-save_data my_train_data"
      ],
      "execution_count": null,
      "outputs": []
    },
    {
      "cell_type": "markdown",
      "metadata": {
        "id": "jJPSpX7_KhrJ"
      },
      "source": [
        "**Training Model**\n",
        "\n",
        "Here, we show training on a small sample of data for 20 steps over a trained model (which is trained using various different sources of parallel data). All details of data sources and model is given in the end."
      ]
    },
    {
      "cell_type": "code",
      "metadata": {
        "id": "6IjleqwzHvUy"
      },
      "source": [
        "!onmt_train \\\n",
        "  -data my_train_data \\\n",
        "  -save_model my_model \\\n",
        "  -train_from mr-model.pt \\\n",
        "  -layers 6 -rnn_size 512 -word_vec_size 512 -transformer_ff 2048 \\\n",
        "  -heads 8 -encoder_type transformer -decoder_type transformer -position_encoding \\\n",
        "  -train_steps 200020 -max_generator_batches 2 \\\n",
        "  -dropout 0.1 -batch_size 4 -batch_type tokens \\\n",
        "  -learning_rate 2 \\\n",
        "  -valid_steps 10000 -save_checkpoint_steps 20000 -report_every 1 -world_size 1 -gpu_ranks 0"
      ],
      "execution_count": null,
      "outputs": []
    },
    {
      "cell_type": "markdown",
      "metadata": {
        "id": "KvD2GUwP0i5m"
      },
      "source": [
        "### Translation"
      ]
    },
    {
      "cell_type": "markdown",
      "metadata": {
        "id": "o8Sy0GF6ldCh"
      },
      "source": [
        "**Load test data and preprocess it**\n",
        "\n",
        "We are using \"test-pmi.en\" from WAT 2021 multi-indic-nmt task (Link in references)"
      ]
    },
    {
      "cell_type": "code",
      "metadata": {
        "id": "s5d5SSplpPsc"
      },
      "source": [
        "pre_test = []\n",
        "tokenize = MosesTokenizer('en')\n",
        "with open('test-pmi.en','r') as f:\n",
        "    for i in f:\n",
        "        pre_test = pre_test+[i]\n",
        "\n",
        "test = []\n",
        "for i in pre_test:\n",
        "    test+=[' '.join(tokenize(i.lower()))]\n",
        "\n",
        "with open('processed-test-pmi.txt','w') as f:\n",
        "    for item in test:\n",
        "        f.write(\"%s\\n\" % item)\n",
        "print(len(test))"
      ],
      "execution_count": null,
      "outputs": []
    },
    {
      "cell_type": "markdown",
      "metadata": {
        "id": "pAqwPTkojY1L"
      },
      "source": [
        "**Apply BPE, translate using trained model and merge bpe tokens into words.**\n",
        "\n",
        "The model which is used here, is trained using various datasets.\n"
      ]
    },
    {
      "cell_type": "code",
      "metadata": {
        "id": "K1JLM9Oq1yi5"
      },
      "source": [
        "%%capture\n",
        "#Translating Test Data\n",
        "!subword-nmt apply-bpe -c mr-bpe-codes.en < processed-test-pmi.txt > bpe-processed-test-pmi.txt\n",
        "!onmt_translate -model mr-model.pt -src bpe-processed-test-pmi.txt -output bpe-trans-pmi.txt -replace_unk -gpu 0\n",
        "!cat bpe-trans-pmi.txt | sed -E 's/(@@ )|(@@ ?$)//g' > trans-pmi.txt"
      ],
      "execution_count": null,
      "outputs": []
    },
    {
      "cell_type": "markdown",
      "metadata": {
        "id": "0GTHw8QNj06J"
      },
      "source": [
        "**Detokenize predicted translations**"
      ]
    },
    {
      "cell_type": "code",
      "metadata": {
        "id": "1dJWTrpVTSHl"
      },
      "source": [
        "from indicnlp.tokenize import indic_detokenize  \n",
        "with open('trans-pmi.txt','r') as a,open('detok-trans-pmi.txt','w') as b:\n",
        "    for item in a:\n",
        "        b.write(\"%s\" % indic_detokenize.trivial_detokenize(item,lang='mr'))"
      ],
      "execution_count": null,
      "outputs": []
    },
    {
      "cell_type": "markdown",
      "metadata": {
        "id": "x0zc6vcppJL3"
      },
      "source": [
        "**Create a function to calculate BLEU score given hypothesis and reference files**"
      ]
    },
    {
      "cell_type": "code",
      "metadata": {
        "id": "cw5xskjELTLk"
      },
      "source": [
        "import sacrebleu\n",
        "\n",
        "#Function to calculate BLEU score\n",
        "def score(r,h):\n",
        "\t  ref = []\n",
        "\t  with open(r,'r') as lines:\n",
        "\t\t    for i in lines:\n",
        "\t\t\t      ref.append(i)\n",
        "\t  hypothesis = []\n",
        "\t  with open(h,'r') as lines:\n",
        "\t\t    for i in lines:\n",
        "\t\t\t      hypothesis.append(i)\n",
        "\t  reference=[]\n",
        "\t  reference.append(ref)\n",
        "\t  bleu = sacrebleu.corpus_bleu(hypothesis,reference)\n",
        "\t  return bleu.score"
      ],
      "execution_count": null,
      "outputs": []
    },
    {
      "cell_type": "markdown",
      "metadata": {
        "id": "rX5ZXAg6j4Q7"
      },
      "source": [
        "**Calculate BLEU score**"
      ]
    },
    {
      "cell_type": "code",
      "metadata": {
        "id": "v233DoF67JA0"
      },
      "source": [
        "%%capture\n",
        "bleu = score(\"test-pmi.mr\",\"detok-trans-pmi.txt\")"
      ],
      "execution_count": null,
      "outputs": []
    },
    {
      "cell_type": "code",
      "metadata": {
        "id": "sMTHsCIBC0Kk"
      },
      "source": [
        "print(bleu)"
      ],
      "execution_count": null,
      "outputs": []
    },
    {
      "cell_type": "markdown",
      "metadata": {
        "id": "fr9fSb1IK8j0"
      },
      "source": [
        "**Translation/Inference**"
      ]
    },
    {
      "cell_type": "code",
      "metadata": {
        "id": "wiYpofOGJ8AM"
      },
      "source": [
        "#Function to translate an English sentence\n",
        "def translate_mr(s):\n",
        "    s=s.lower()\n",
        "     #Apply tokenization\n",
        "    tokenize = MosesTokenizer('en')\n",
        "    s=' '.join(tokenize(s))\n",
        "    with open('sentence.txt','w') as f:\n",
        "        f.write(s)\n",
        "    #Apply BPE\n",
        "    !subword-nmt apply-bpe -c mr-bpe-codes.en < sentence.txt > bpe-sentence.txt\n",
        "    #Translate using OpenNMT\n",
        "    !onmt_translate -model mr-model.pt -src bpe-sentence.txt -output bpe-trans.txt -replace_unk -gpu 0\n",
        "    #De-BPE\n",
        "    !cat bpe-trans.txt | sed -E 's/(@@ )|(@@ ?$)//g' > trans.txt\n",
        "    out = \"\"\n",
        "    with open('trans.txt') as f:\n",
        "        for i in f:\n",
        "            out+=i\n",
        "    return indic_detokenize.trivial_detokenize(out,lang='mr')"
      ],
      "execution_count": null,
      "outputs": []
    },
    {
      "cell_type": "code",
      "metadata": {
        "id": "t8MMKLwzJ9c3"
      },
      "source": [
        "%%capture\n",
        "def interactive(input_sentence):\n",
        "  output = translate_mr(input_sentence)\n",
        "  return output\n",
        "input_sentence = input(\"Enter a sentence: \")\n",
        "output = interactive(input_sentence)"
      ],
      "execution_count": null,
      "outputs": []
    },
    {
      "cell_type": "code",
      "metadata": {
        "id": "UB3YJG09lo5g"
      },
      "source": [
        "print(output)"
      ],
      "execution_count": null,
      "outputs": []
    },
    {
      "cell_type": "markdown",
      "metadata": {
        "id": "JuccMD3B7L7J"
      },
      "source": [
        "**Details of data and training**\n",
        "\n",
        "* Training data: It is a combination of \n",
        "> * Press Information Bureau\n",
        "> * PMIndia\n",
        "> * Bible dataset\n",
        "> * ILCI: Not publicly available\n",
        "\n",
        "* Dev and Test data: WAT 2021 multi-indic-nmt task data\n",
        "\n",
        "All the publicly available data can be downloaded froms: http://lotus.kuee.kyoto-u.ac.jp/WAT/indic-multilingual/)\n",
        "\n",
        "Model details:\n",
        ">* Encoder/Decoder type: Transformer\n",
        ">* Number of layers in Encoder and Decoder: 6 \n",
        ">* Number of heads in multi-head attention: 8\n",
        ">* Word Embedding Size: 512\n",
        ">* Hidden layer dimension in Feed Forward Neural Network: 2048\n",
        ">* Optimizer: Adam\n",
        ">* Dropout: 0.1\n",
        ">* Number of iterations: 200000\n",
        ">* Other parameters use the default setting in OpenNMT\n",
        "\n",
        "The training data also includes Back-Translated data generated using the trained system in opposite direction. The monolingal dataset used here is from AI4Bharat dataset (https://github.com/AI4Bharat)"
      ]
    },
    {
      "cell_type": "markdown",
      "metadata": {
        "id": "AGGbwRulfryP"
      },
      "source": [
        "**References**\n",
        "\n",
        "\n",
        "1. Sennrich, Rico, Barry Haddow, and Alexandra Birch. \"Neural Machine Translation of Rare Words with Subword Units.\" In Proceedings of the 54th Annual Meeting of the Association for Computational Linguistics (Volume 1: Long Papers), pp. 1715-1725. 2016.\n",
        "2. Klein, Guillaume, Yoon Kim, Yuntian Deng, Jean Senellart, and Alexander M. Rush. \"OpenNMT: Open-Source Toolkit for Neural Machine Translation.\" In Proceedings of ACL 2017, System Demonstrations, pp. 67-72. 2017.\n",
        "3. Test dataset: (http://lotus.kuee.kyoto-u.ac.jp/WAT/indic-multilingual/)\n",
        "4. OpenNMT-py: (https://github.com/OpenNMT/OpenNMT-py/)\n",
        "5. Sacrebleu: (https://github.com/mjpost/sacrebleu)\n",
        "6. Subword-nmt: (https://github.com/rsennrich/subword-nmt)\n",
        "7. http://jalammar.github.io/illustrated-transformer/\n"
      ]
    },
    {
      "cell_type": "markdown",
      "metadata": {
        "id": "E1aUkYmCZAod"
      },
      "source": [
        "**Links to various data resources and tools:**\n",
        "\n",
        "Workshops in Machine Translation\n",
        "* http://statmt.org/wmt21/\n",
        "* http://lotus.kuee.kyoto-u.ac.jp/WAT/\n",
        "\n",
        "Data resources\n",
        "* https://github.com/AI4Bharat/indicnlp_corpus\n",
        "* WMT and WAT workshops (mentioned above) provides parallel data for many language pairs\n",
        "\n",
        "Tools for preprocessing\n",
        "* https://github.com/anoopkunchukuttan/indic_nlp_library\n",
        "* https://github.com/moses-smt/mosesdecoder\n",
        "\n",
        "Frameworks for NMT\n",
        "* https://huggingface.co/\n",
        "* https://github.com/pytorch/fairseq"
      ]
    }
  ]
}